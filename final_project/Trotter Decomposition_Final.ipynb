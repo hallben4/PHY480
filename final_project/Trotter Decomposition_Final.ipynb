{
 "cells": [
  {
   "cell_type": "markdown",
   "metadata": {},
   "source": [
    "# Suzuki-Trotter Decomposition"
   ]
  },
  {
   "cell_type": "markdown",
   "metadata": {},
   "source": [
    "## Imports"
   ]
  },
  {
   "cell_type": "code",
   "execution_count": 1,
   "metadata": {},
   "outputs": [],
   "source": [
    "import math\n",
    "import cmath\n",
    "import matplotlib.pyplot as plt\n",
    "%matplotlib inline\n",
    "import numpy as np\n",
    "from numpy import linalg as la\n",
    "import scipy as sp\n",
    "from scipy import linalg as sla"
   ]
  },
  {
   "cell_type": "markdown",
   "metadata": {},
   "source": [
    "## Outline"
   ]
  },
  {
   "cell_type": "markdown",
   "metadata": {},
   "source": [
    "1. Abstract \n",
    "-  Motivation\n",
    "    - Exponents of Operators\n",
    "    - Time Evolution in Quantum Mechanics\n",
    "    - Classical Computing\n",
    "    - Quantum Computing\n",
    "- Suzuki-Trotter Decomposition\n",
    "    - STD Definition\n",
    "    - STD Theorem\n",
    "- Application: Time-Evolution\n",
    "    - Time-Evolution Operator\n",
    "    - Ising Model\n",
    "    - Term Grouping\n",
    "    - Verification of STD Theorem\n",
    "- Error Analysis\n",
    "    - Method\n",
    "    - Plots\n",
    "    - Analysis"
   ]
  },
  {
   "cell_type": "markdown",
   "metadata": {},
   "source": [
    "## 1 | Abstract"
   ]
  },
  {
   "cell_type": "markdown",
   "metadata": {},
   "source": [
    "$\\hspace{5mm}$ We are going to verify the Suzuki-Trotter Decomposition Theorem. The Suzuki-Trotter Decomposition is necessary to execute certain algorithms on a quantum computer such as time evolution. Quantum computers will be able to allow time evolution simulations of larger quantum systems than can currently be done with clasical computers."
   ]
  },
  {
   "cell_type": "markdown",
   "metadata": {},
   "source": [
    "## 2 | Motivation"
   ]
  },
  {
   "cell_type": "markdown",
   "metadata": {},
   "source": [
    "### Exponents of Operators\n",
    "\n",
    "$\\hspace{5mm}$ We all learn in high school that, given two (complex) numbers $A$ and $B$, the exponentiation of their sum is equal to the product of their exponentiation:\n",
    "\n",
    "\\begin{align}\n",
    "\\forall a,b &\\in \\mathbb{C}\n",
    "\\\\\n",
    "e^{a+b}&=e^ae^b\n",
    "\\end{align}\n",
    "\n",
    "$\\hspace{5mm}$ However, as with many aspects of life, things aren't as simple as we are lead to believe in our youth. In fact, if $A$ and $B$ are operators, then a stipulation must be added to our previous formula. That is:\n",
    "\n",
    "\\begin{align*}\n",
    "\\forall A,B &\\in \\mathbb{C}^{n\\times n}\n",
    "\\\\\n",
    "e^{A+B}&=e^Ae^B \\ \\iff \\ [A,B] = 0\n",
    "\\end{align*}\n",
    "\n",
    "$\\hspace{5mm}$ That begs the question, what if $A$ and $B$ don't commute? This situation occurs extremely frequenty in quantum mechanics."
   ]
  },
  {
   "cell_type": "markdown",
   "metadata": {},
   "source": [
    "### Time Evolution in Quantum Mechanics\n",
    "\n",
    "$\\hspace{5mm}$ One of the main programs of quantum mechanics is as follows: given an initial quantum state at time $t=0$, $\\psi(0)$, of a quantum system described by the Hamiltonian $H$, what is the state at some latter time $t$, $\\psi(t)$? The Shrodinger equation\n",
    "\n",
    "\\begin{align*}\n",
    "i\\partial_t|\\psi(t)\\rangle=H|\\psi(t)\\rangle\n",
    "\\end{align*}\n",
    "\n",
    "with $\\hbar=1$, gives us the answer\n",
    "\n",
    "\\begin{align*}\n",
    "|\\psi(t)\\rangle = e^{-iHt}|\\psi(0)\\rangle\n",
    "\\end{align*}\n",
    "\n",
    "after integration. \n",
    "\n",
    "$\\hspace{5mm}$ Often, the Hamiltonian can be written as a sum of terms such as\n",
    "\n",
    "\\begin{align*}\n",
    "H=\\frac{p^2}{2m}+V(x)\n",
    "\\end{align*}\n",
    "\n",
    "$\\hspace{5mm}$ As discussed above, to simulate the time evolution of a quantum state of a quantum system described by this Hamiltonian, one must exponentiate the Hamiltonin. And if one wanted to decompose their exponentiation into the product of two simpler exponentials, one would run in to trouble - naemly the fact that, as every student of quantum mechanics knows, $[x,p]=i\\neq0$. Therefore, as discussed above\n",
    "\n",
    "\\begin{align*}\n",
    "U(t)=e^{-iHt}=\\exp\\left\\{{-i\\left(\\frac{p^2}{2m}+V(x)\\right)t}\\right\\}\n",
    "\\neq \\exp\\left\\{-i\\frac{p^2}{2m}t\\right\\}\\exp\\left\\{-iV(x)t\\right\\}\n",
    "\\end{align*}"
   ]
  },
  {
   "cell_type": "markdown",
   "metadata": {},
   "source": [
    "### Classical Computing\n",
    "\n",
    "$\\hspace{5mm}$ Now, you may be asking yourself, \"why would I want to decompose my time-evolution operator into the product of simpler exponentials?\" Because it makes time-evolution viable on a quantum computer. \"A quantum computer?\" - you protest - \"What's wrong with a quantum computer?\"\n",
    "\n",
    "$\\hspace{5mm}$ Well, because the Hilbert space of an $n$-body system is proportional to $2^n$. Therfore, the size of both a quantum state and the matrix representation of a Hamiltonian grows exponentially, as $2^n$ and $2^n\\times2^n$, respectively. That means the classical computer must be able to store exponentially large amounts of data. Additionally, if one wants to simulate quantum time-evolution on a classical computer, one must exponentiate at $2^n\\times2^n$ matrix. Since exponentiation involes costly matrix-matrix multiplication (which naively goes as $n^3$ for an $n\\times n$ matrix) the complexity of the classical time evolution algorithm can quickly become entractable for quantum systems of interest (nuclei,molecules, etc.)\n",
    "\n",
    "$\\hspace{5mm}$ Quantum computers don't suffer from the same exponential growth because although the Hilbert space of a many-body system grows exponentially, so to does the Hilbert space of the quantum computer with the number of qubits it contains. Thus, one can store a wavefucntion of an $n$-body system with $\\mathcal{O}(n)$ qubits instead of $\\mathcal{O}(2^n)$ bits. One can simulate time evolution with less complexity as well. To understand this, and why the decomposition of the time-evolution operator is necessary for a quantum simulation of time-evolution, you need to know a little about how quantum computers work."
   ]
  },
  {
   "cell_type": "markdown",
   "metadata": {},
   "source": [
    "### Quantum Computing\n",
    "\n",
    "$\\hspace{5mm}$ Quantum computers store information in two-level quantum systems (e.g. the spin of electrons) called qubits. Qubits are represented as normalized complex-valued $2\\times1$ vectors. A quantum algorithm is comprised of a series of quantum gates which act on the qubits in order to do a calculation with the information. Quantum gates are physical actions that are applied to the qubits (e.g. the application of an external electromagnetic field). A quantum gate that acts on $n$ qubits is represented as a unitary complex-valued $2^n\\times2^n$ matrix. \n",
    "\n",
    "$\\hspace{5mm}$ Therefore, we can write the time evolution operator matrix as a quantum gate. Applying this gate to a state qubits in an initial state will evolve them into the correct final state according to the time-evolution formula from above. The catch is that $n$-qubit gates (gates that act non-trivially on $n$ qubits) must be decomposed into sum universal set of one and two qubit gates (ust like classical gates are decomposed into some set of basic logic gates like NOT, AND, etc.) It has been proven that any two-qubit gate can be decomposed into at most 7 one-qubit gates and 3 two-qubit gates (10 gates). Furthermore, we know \\textit{how} to decompose any two-qubit gates into 10 gates, not just that it can be done. We do \\text{not} know the minimal decomposition of an aribitrary $n$-qubit gate (and perhaps never will). It has been proven that any $n$-qubit gate can be decomposed into the product of two-qubit gates (which we know how to decompose). However, the larger $n$ is, the more computational resources it can will take to do this composition.\n",
    "\n",
    "$\\hspace{5mm}$ Luckily, many physical Hamiltonians (especially in second quantization) are $k$-local, meaning that they can be written as the sum of $k$-qubit Hamiltonians. That is, a $k$-local Hamiltonian $H$ is able to be written as\n",
    "\n",
    "\\begin{align*}\n",
    "H=\\sum_{n=1}^mH_n\n",
    "\\end{align*}\n",
    "\n",
    "for sum integer $m$, where, every $H_n$ is no more than a $k$-qubit unitary. Thus, the time evolution operator corresponding to a $k$-local Hamiltonian can be written as\n",
    "\n",
    "\\begin{align*}\n",
    "U_H(t)=e^{\\lambda\\sum_{n=1}^mH_n}\n",
    "\\end{align*}\n",
    "\n",
    "where $\\lambda\\equiv -it$. We can see the connection to our original motivation when we take into account that the terms $H_n$ often do not commute with one another. We are trying to take the exponential of a sum of non-commuting operators. This is just the repeated application of the case from the beginning, where $m$ was 2. Therefore, it's often true that\n",
    "\n",
    "\\begin{align*}\n",
    "\\exp\\left(\\sum_{n=1}^m\\lambda H_n\\right)\n",
    "\\neq\n",
    "\\prod_{n=1}^m\\exp(\\lambda H_n)\n",
    "\\end{align*}\n",
    "\n",
    "$\\hspace{5mm}$ Why do we want to be able to do this? Because for a $k$-local Hamiltonian of an $N$-body sytem, $k$ is often much less than $N$. Therefore, while the left-hand side of the above equation is $N$ (say $H$ describes an $N$-body system), the right-hand side is a product of $k$-body hamiltonians, each of which is easier to decompose into a product of two-qubit gates (since $k<<N$). So you see, while decomposing the left-hand side into basic quantum gates is computationally unpracticle for large $N$ (if not impossible), decomposing the right-hand side is doable.\n",
    "\n",
    "$\\hspace{5mm}$ Therefore, a decomposition that approximates the exponential of a sum as some product of exponentials makes time-evolution for many-body systems possible! One such decompositions is called the Susuki-Trotter Decomposition (STD)."
   ]
  },
  {
   "cell_type": "markdown",
   "metadata": {},
   "source": [
    "## 3 | Susuki-Trotter Decomposition"
   ]
  },
  {
   "cell_type": "markdown",
   "metadata": {},
   "source": [
    "### STD Definition\n",
    "\n",
    "$\\hspace{5mm}$ Consider an operator $H$ that can be written as a sum of $n$ terms\n",
    "\n",
    "\\begin{align*}\n",
    "H=\\sum_{k=1}^nH_k\n",
    "\\end{align*}\n",
    "\n",
    "$\\hspace{5mm}$ We wish to find an approximate decomposition of the exponentiation of $H$ \n",
    "\n",
    "\\begin{align*}\n",
    "U(\\lambda)\\equiv \\exp\\left(\\lambda H\\right)=\\exp\\left(\\lambda\\sum_{k=1}^nH_k\\right)\n",
    "\\end{align*}\n",
    "\n",
    "in terms of products of exponentials of the terms $H_k$. The Susuki-Trotter (ST) decomposition is such a decomposition and it is defined recuresively as follows: Denote the $i^{\\text{th}}$ order Susuki-Trotter decomposition of $U(\\lambda)$ as $S_i(\\lambda)$. The base case is the second order decomposition:\n",
    "\n",
    "\\begin{align*}\n",
    "S_2(\\lambda)=\\prod_{i=1}^n \\exp\\left(\\frac{\\lambda}{2}H_i\\right)\\prod_{j=n}^1\\exp\\left(\\frac{\\lambda}{2}H_j\\right)\n",
    "\\end{align*}\n",
    "\n",
    "and higher order Susuki-Trotter decompositions can be found recursively using\n",
    "\n",
    "\\begin{align*}\n",
    "S_{2k}(\\lambda)=\\left[S_{2k-2}(P_k\\lambda)\\right]^2S_{2k-2}((1-4p_k)\\lambda)\\left[S_{2k-2}(P_k\\lambda)\\right]^2\n",
    "\\end{align*}"
   ]
  },
  {
   "cell_type": "code",
   "execution_count": 614,
   "metadata": {},
   "outputs": [],
   "source": [
    "## Recursive function to return the j^th order ST decomposition\n",
    "\n",
    "# Inputs: \n",
    "    # j: an integer (half the order of the desired ST decomposition)\n",
    "    # l: a complex number (lambda)\n",
    "    # H_list: a list of the complex valued square matrices (terms of the Hamiltonian)\n",
    "\n",
    "# Outputs: \n",
    "    # j^th order ST decomposition\n",
    "    \n",
    "def S(K,l,H_list):\n",
    "    \n",
    "    # Get k from K=2k\n",
    "    k = int(K/2)\n",
    "    \n",
    "    # Get n, the number of terms in the Hamiltonian\n",
    "    n = len(H_list)\n",
    "    \n",
    "    # Get N, the size of the (NxN) Hamiltonian matrix\n",
    "    N = len(H_list[0])\n",
    "    \n",
    "    # Base case\n",
    "    if k == 1:\n",
    "        \n",
    "        # Initialize S_2(lamdba)\n",
    "        S_2 = np.identity(N, dtype=complex)\n",
    "        \n",
    "        # First product\n",
    "        for i in range(0,n):\n",
    "            S_2 = S_2 @ sla.expm((l/2) * H_list[i])\n",
    "            \n",
    "        # Second product\n",
    "        for i in range(0,n):\n",
    "            S_2 = S_2 @ sla.expm((l/2) * H_list[(n-1)-i])\n",
    "            \n",
    "        return S_2\n",
    "        \n",
    "    # Recursive definition\n",
    "    else:\n",
    "        \n",
    "        # Define S_2k\n",
    "        S_2k = (S(2*k-2,p(k)*l,H_list))**2 * S(2*k-2,(1-4*p(k))*l,H_list) * (S(2*k-2,p(k)*l,H_list))**2\n",
    "        \n",
    "        # Return S_2k\n",
    "        return S_2k"
   ]
  },
  {
   "cell_type": "markdown",
   "metadata": {},
   "source": [
    "where\n",
    "\n",
    "\\begin{align*}\n",
    "p_k=\\frac{1}{4-4^{1/(2k-1)}}\n",
    "\\end{align*}"
   ]
  },
  {
   "cell_type": "code",
   "execution_count": 615,
   "metadata": {},
   "outputs": [],
   "source": [
    "## Definition of p\n",
    "\n",
    "# Inputs: \n",
    "    # k: an integer\n",
    "\n",
    "# Outputs: \n",
    "    # Outputs p\n",
    "    \n",
    "def p(k):\n",
    "    \n",
    "    # Define p\n",
    "    p = (4-4**(1/(2*k-1)))**(-1)\n",
    "    \n",
    "    # Return p\n",
    "    return p"
   ]
  },
  {
   "cell_type": "markdown",
   "metadata": {},
   "source": [
    "### STD Theorem:\n",
    "\n",
    "$\\hspace{5mm}$ Suzuki quantified the error associated with each order of decomposition by proving the following:\n",
    "\n",
    "\\begin{align*}\n",
    "\\left\\Vert\\exp{\\left(\\lambda\\sum_{i=1}^n H_i\\right)}-S_{2k}(\\lambda)\\right\\Vert\\in\\mathcal{O}\\left(|\\lambda|^{2k+1}\\right)\n",
    "\\end{align*}\n",
    "\n",
    "$\\hspace{5mm}$ as $|\\lambda|\\to0$. We will refer to the norm in the STD theorem as the STD error norm."
   ]
  },
  {
   "cell_type": "code",
   "execution_count": 616,
   "metadata": {},
   "outputs": [],
   "source": [
    "## Function for Error Theorem\n",
    "\n",
    "# Inputs: \n",
    "    # j: an integer (half the order of the desired ST decomposition)\n",
    "    # l: a complex number (lambda)\n",
    "    # H_list: a list of the complex valued square matrices (terms of the Hamiltonian)\n",
    "    \n",
    "# Outputs: \n",
    "    # STD error norm\n",
    "    \n",
    "def STD_norm(k,l,H_list):\n",
    "    \n",
    "    # Get n, the number of terms in the Hamiltonian\n",
    "    n = len(H_list)\n",
    "    \n",
    "    # Get N, the size of the (NxN) Hamiltonian matrix\n",
    "    N = len(H_list[0])\n",
    "    \n",
    "    # Initialize the Hamiltonian\n",
    "    H = np.zeros((N,N), dtype=complex)\n",
    "    \n",
    "    # Define the Hamiltonian\n",
    "    for i in range(n):\n",
    "        H += H_list[i]\n",
    "        \n",
    "    # Define the norm\n",
    "    norm = la.norm(sla.expm(l*H)-S(k,l,H_list))\n",
    "    \n",
    "    # Return the norm\n",
    "    return norm"
   ]
  },
  {
   "cell_type": "markdown",
   "metadata": {},
   "source": [
    "## 4 | Application: Time-Evolution"
   ]
  },
  {
   "cell_type": "markdown",
   "metadata": {},
   "source": [
    "### Time-Evolution\n",
    "\n",
    "Recall from before that a quantum state can be evolved through time using the time-evolution equation\n",
    "\n",
    "\\begin{align*}\n",
    "|\\psi(t)\\rangle = e^{-iHt}|\\psi(0)\\rangle\n",
    "\\end{align*}\n",
    "\n",
    "where, for a $k$-local Hamiltonian\n",
    "\n",
    "\\begin{align}\n",
    "H = \\sum_{i=1}^nh_{i}\n",
    "\\end{align}\n",
    "\n",
    "the time-evolution operator $U(t)$ is\n",
    "\n",
    "\\begin{align}\n",
    "U(t) = \n",
    "e^{-itH} = \n",
    "\\exp{\\left(-it\\sum_{i=1}^nh_{i}\\right)}\n",
    "\\end{align}\n",
    "\n",
    "$\\hspace{5mm}$ Note that this is becomes the quantity of interest in the STD theorem for $\\lambda=-it$. Therefore, to decompose the time-evolution, we can use the STD theorem. We'll do this for the Ising Model Hamiltonian"
   ]
  },
  {
   "cell_type": "markdown",
   "metadata": {},
   "source": [
    "### Ising Model\n",
    "\n",
    "$\\hspace{5mm}$ The Ising model represents a chain of electrons that each interact only with their neighbors. An external magnetic field is applied to the electrons. The model can be used to describe the phase transition of a magnet between ferromagnetic and anti-ferromagnetic states.\n",
    "\n",
    "$\\hspace{5mm}$ The Ising model Hamiltonian $H$ is defined as\n",
    "\n",
    "\\begin{align*}\n",
    "H=-\\sum_{i,j=1}^nJ_{ij}\\sigma_i\\cdot\\sigma_j-\\sum_{k=1}^nB_k\\sigma_k\n",
    "\\end{align*}\n",
    "\n",
    "where $J_{ij}\\in\\mathbb{R}$ are the interaction strengths, $B_k\\in\\mathbb{R}^3$ are the magnetic field strengths, and $\\sigma_i$ are vectors of Pauli spin matrices.\n",
    "\n",
    "$\\hspace{5mm}$ To simulate the time-evolution of the Ising model on quantum computer we use one qubit to represent the state of one electron. The Hamiltonian is 2-local because it is written as a sum of Hamiltonians, each of which act non-trivially on at most 2 qubits (electrons) at a time. \n",
    "\n",
    "$\\hspace{5mm}$ Before exponentiate the Hamiltonian for time evolution, we're going to write it as a single sum to reduce the number of terms by a factor of two from $n^2+n$ to $n \\choose 2$:\n",
    "\n",
    "\\begin{align}\n",
    "H=\\sum_{i<j=1}^nh_{ij}\n",
    "\\end{align} \n",
    "\n",
    "where we've defined\n",
    "\n",
    "\\begin{align}\n",
    "h_{ij}\\equiv -J_{ij}\\sigma_i\\cdot\\sigma_j-\\frac{1}{n-1}\\left(B_{i}\\cdot\\sigma_i+B_{j}\\cdot\\sigma_j\\right)\n",
    "\\end{align}"
   ]
  },
  {
   "cell_type": "code",
   "execution_count": 617,
   "metadata": {},
   "outputs": [],
   "source": [
    "## Function to create the term h_ij\n",
    "\n",
    "# Inputs: \n",
    "    # n: an integer (the number of electrons)\n",
    "    # J: an integer valued matrix of the interactiong strenghts J_ij\n",
    "    # B: a list of integer-valued vectors of the the magnetic field strengths B_k  \n",
    "    # i: an integer (the first intex of h_ij)\n",
    "    # j: an integer (the second intex of h_ij)\n",
    "    \n",
    "# Outputs: \n",
    "    # The term square complex valued matrix h_ij\n",
    "\n",
    "def h_ij(i,j,n,J,B):\n",
    "    \n",
    "    # Initialize the Hamiltonian\n",
    "    H = np.zeros((2**n,2**n),dtype=complex)\n",
    "\n",
    "    # Create the Hamiltonian\n",
    "    for k in range(3): # Sum over the 3 Pauli matrices\n",
    "        \n",
    "        # Add the k^th component of each term of h_ij\n",
    "        H += -(B[i][k] * sigma(i,k,n) - B[j][k] * sigma(j,k,n))/(n-1) - J[i][j] * (sigma(i,k,n) @ sigma(j,k,n))\n",
    "    \n",
    "    # Return the Hamiltonian\n",
    "    return H"
   ]
  },
  {
   "cell_type": "markdown",
   "metadata": {},
   "source": [
    "$\\hspace{5mm}$ To write each term $h_{ij}$ in matrix form, let me explain the notation used in the Hamiltonian. The terms $\\sigma_i$ are defined as\n",
    "\n",
    "\\begin{align}\n",
    "\\sigma_i\\equiv(\\sigma^1_i,\\sigma^2_i,\\sigma^3_i)\n",
    "\\end{align}\n",
    "\n",
    "$\\hspace{5mm}$ where\n",
    "\n",
    "\\begin{align}\n",
    "\\sigma^p_k\\equiv \\left(\\bigotimes_{i=1}^{k-1}\\sigma^0\\right)\\sigma^p\\left(\\bigotimes_{i=k+1}^{n}\\sigma^0\\right)\n",
    "\\end{align}\n",
    "\n",
    "$\\hspace{5mm}$ for $p=1,2,3$ and the dot product of two pauli vectors is defined as\n",
    "\n",
    "\\begin{align}\n",
    "\\sigma_i\\cdot\\sigma_j = \\sum_{k=1}^3\\sigma^k_i\\otimes\\sigma^k_j\n",
    "\\end{align}\n",
    "\n",
    "$\\hspace{5mm}$ and\n",
    "\n",
    "\\begin{align}\n",
    "\\sigma^0 =\n",
    "\\begin{pmatrix}\n",
    "1 & 0 \\\\\n",
    "0 & 1\n",
    "\\end{pmatrix}\n",
    ", \\quad\n",
    "\\sigma^1 =\n",
    "\\begin{pmatrix}\n",
    "0 & 1 \\\\\n",
    "1 & 0\n",
    "\\end{pmatrix}\n",
    ", \\quad\n",
    "\\sigma^2 =\n",
    "\\begin{pmatrix}\n",
    "0 & -i \\\\\n",
    "i & 0\n",
    "\\end{pmatrix}\n",
    ", \\quad\n",
    "\\sigma^3 =\n",
    "\\begin{pmatrix}\n",
    "1 & 0 \\\\\n",
    "0 & -1\n",
    "\\end{pmatrix}\n",
    "\\end{align}\n",
    "\n",
    "$\\hspace{5mm}$ are the Pauli spin matrices."
   ]
  },
  {
   "cell_type": "code",
   "execution_count": 618,
   "metadata": {},
   "outputs": [],
   "source": [
    "## Function to output the k^th Pauli spin matrix\n",
    "\n",
    "# Inputs: \n",
    "    # k: an integer (the site of the non-trivial matrix)\n",
    "    # p: an integer (the index of the Pauli spin matrix)\n",
    "    # n: an integer (the numeber of sites)\n",
    "\n",
    "# Outputs: \n",
    "    # The p^th Pauli spin matrix at the k^th site\n",
    "\n",
    "def sigma(k,p,n):\n",
    "    \n",
    "    # Add one to p because non-zero Puali's start at p = 1\n",
    "    p += 1\n",
    "    \n",
    "    # List of labels of Pauli spin matrices\n",
    "    p_label_list = [0]*n\n",
    "    \n",
    "    # Set the kth site to be the p^th Pauli spin matrix\n",
    "    p_label_list[k] = p\n",
    "    \n",
    "    # List of Pauli matrices to take the tesnor product of\n",
    "    p_list = []\n",
    "    \n",
    "    # Fill p_list\n",
    "    for i in range(n):\n",
    "    \n",
    "        if p_label_list[i] == 0: # Return the 0^th Pauli matrix\n",
    "            p_list.append(np.array([[1,0],\n",
    "                                    [0,1]], dtype = complex))\n",
    "\n",
    "        elif p_label_list[i] == 1: # Return the 1^st Pauli matrix\n",
    "            p_list.append(np.array([[0,1],\n",
    "                                    [1,0]], dtype = complex))\n",
    "\n",
    "        elif p_label_list[i] == 2: # Return the 2^nd Pauli matrix\n",
    "            p_list.append(np.array([[0,-1j],\n",
    "                                    [1j,0]], dtype = complex))\n",
    "\n",
    "        elif p_label_list[i] == 3: # Return the 3^rd Pauli matrix\n",
    "            p_list.append(np.array([[1,0],\n",
    "                                    [0,-1]], dtype = complex))\n",
    "\n",
    "        else:\n",
    "            print(\"k must be 0, 1, 2, or 3\")\n",
    "            \n",
    "    # Tensor product the entries of p_list\n",
    "    sigma = p_list[0]\n",
    "    for i in range(1,n):\n",
    "        sigma = np.kron(sigma,p_list[i])\n",
    "\n",
    "    # Return the p^th Pauli spin matrix at the k^th site\n",
    "    return sigma"
   ]
  },
  {
   "cell_type": "markdown",
   "metadata": {},
   "source": [
    "Now we make a list of all the terms $h_{ij}$:"
   ]
  },
  {
   "cell_type": "code",
   "execution_count": 623,
   "metadata": {},
   "outputs": [],
   "source": [
    "## Function to makes a list of the terms h_ij\n",
    "\n",
    "# Inputs: \n",
    "    # n: an integer (the number of electrons)\n",
    "    # J: an integer valued matrix of the interactiong strenghts J_ij\n",
    "    # B: a list of integer-valued vectors of the the magnetic field strengths B_k  \n",
    "\n",
    "# Outputs: \n",
    "    # List of terms h_ij\n",
    "\n",
    "def terms(n,J,B):\n",
    "\n",
    "    # Initialize list for terms\n",
    "    terms_list = []\n",
    "    \n",
    "    # Fill in terms_list\n",
    "    for i in range(2):\n",
    "            terms_list.append(h_ij(i,i+1,n,J,B))\n",
    "            \n",
    "    # Return terms list\n",
    "    return terms_list"
   ]
  },
  {
   "cell_type": "markdown",
   "metadata": {},
   "source": [
    "### Verification of STD Theorem"
   ]
  },
  {
   "cell_type": "markdown",
   "metadata": {},
   "source": [
    "$\\hspace{5mm}$ To verify the STD theorem we'll use the STD definition to decompose the Ising model's time-evolution operator. We'll then calculate the STD norm for various order decompositions and verify that they scale as predicted in the STD theorem.\n",
    "\n",
    "We'll now choose specific variables for the Ising model Hamiltonian, it's time evolution operator. Additionally, we'll define variables to compute the STD norm for various and orders of decomposition $K=2k$ for $k=1,...,k_\\text{max}$ and discrete (very small) times on the interval $[t_\\text{min},t_\\text{max}]$:"
   ]
  },
  {
   "cell_type": "code",
   "execution_count": 644,
   "metadata": {},
   "outputs": [],
   "source": [
    "## Variables for Ising model Hamiltonian\n",
    "\n",
    "# Number of sites\n",
    "n = 5\n",
    "\n",
    "# Matrix of interaction strengths\n",
    "# where each entry is chosen from the uniform random distrbution of the interval [0,1]\n",
    "J = np.random.rand(n,n) # \n",
    "\n",
    "# Matrix of external magnetic field strength vectors\n",
    "# where each entry is chosen from the uniform random distrbution of the interval [-1,1]\n",
    "B = np.random.rand(n,3)\n",
    "for i in range(n):\n",
    "    for j in range(3):\n",
    "        B[i][j] = 2*B[i][j] - 1\n",
    "\n",
    "# List of times\n",
    "t_min = 10**(-4)\n",
    "t_max = 100*t_min # Maximum time\n",
    "n_t = 20 # Number of points in time\n",
    "t_list = np.linspace(t_min,t_max,n_t)\n",
    "\n",
    "# List of orders\n",
    "k_max = 2 # Maximum order\n",
    "K_list = []\n",
    "for k in range(1,k_max+1):\n",
    "    K_list.append(2*k)"
   ]
  },
  {
   "cell_type": "markdown",
   "metadata": {},
   "source": [
    "Finally, we'll compute the STD norm for the chosen orders of decomposition over the chosen points of time."
   ]
  },
  {
   "cell_type": "code",
   "execution_count": 658,
   "metadata": {},
   "outputs": [],
   "source": [
    "# List of terms in Hamiltonian\n",
    "H_list = terms(n,J,B)\n",
    "\n",
    "# List of norms\n",
    "norm_list = []\n",
    "\n",
    "# Loop through orders of decomposition\n",
    "for K in K_list:\n",
    "    norm_list_K = []\n",
    "    for t in t_list:\n",
    "        l = -1j*t # lambda\n",
    "        norm_list_K.append(STD_norm(K,l,H_list))\n",
    "    norm_list.append(norm_list_K)"
   ]
  },
  {
   "cell_type": "markdown",
   "metadata": {},
   "source": [
    "## 5 | Error Analysis"
   ]
  },
  {
   "cell_type": "markdown",
   "metadata": {},
   "source": [
    "## Method"
   ]
  },
  {
   "cell_type": "markdown",
   "metadata": {},
   "source": [
    "$\\hspace{5mm}$ We will be fitting the data \n",
    "\n",
    "\\begin{align*}\n",
    "(f(x),x)=\n",
    "(\\ln\\text{N(2k)},\\ln|\\lambda|)\n",
    "\\end{align*}\n",
    "\n",
    "to a line $f(x)=mx+b$. Here, N(2k) is the STD norm using the $2k^{\\text{th}}$ order STD decomposition. The slope of that line should return $2k+1$ for order $2k$. We can see this by taking the logarithm of both sides of the STD theorem:\n",
    "\n",
    "\\begin{align*}\n",
    "N(2k) &= |\\lambda|^{2k+1}\n",
    "\\\\\n",
    "\\Rightarrow \\\n",
    "\\ln{N(2k)} &= (2k+1)\\ln|\\lambda|\n",
    "\\end{align*}"
   ]
  },
  {
   "cell_type": "markdown",
   "metadata": {},
   "source": [
    "## Plots"
   ]
  },
  {
   "cell_type": "markdown",
   "metadata": {},
   "source": [
    "We will now make a plot of the STD norm versus $|\\lambda|$ (which is just $t$ in our case) for various orders $k$:"
   ]
  },
  {
   "cell_type": "code",
   "execution_count": 659,
   "metadata": {},
   "outputs": [
    {
     "data": {
      "image/png": "[encoded data removed]",
      "text/plain": [
       "<Figure size 432x288 with 1 Axes>"
      ]
     },
     "metadata": {
      "needs_background": "light"
     },
     "output_type": "display_data"
    }
   ],
   "source": [
    "## Plotting STD norm versus abs(lambda)\n",
    "\n",
    "# Convert lists to do a log-log plot\n",
    "log_t_list = []\n",
    "for t in t_list:\n",
    "    log_t_list.append(np.log(t))\n",
    "\n",
    "log_norm_list = []\n",
    "for K in range(len(K_list)):\n",
    "    log_norm_list_K = []\n",
    "    for t in range(len(t_list)):\n",
    "        log_norm_list_K.append(np.log(norm_list[K][t]))\n",
    "    log_norm_list.append(log_norm_list_K)\n",
    "    \n",
    "# List for slopes\n",
    "slopes = []\n",
    "# Loop over orders of decomposition\n",
    "for K in range(len(K_list)):\n",
    "    slopes.append(np.polyfit(log_t_list,log_norm_list[K],1)[0])\n",
    "    plt.plot(log_t_list,log_norm_list[K],label=\"Order =\" + str(K_list[K]))\n",
    "    plt.title(\"Error in STD Norm for Various Orders\")\n",
    "    plt.xlabel(\"|lambda|\")\n",
    "    plt.ylabel(\"STD norm\")\n",
    "    plt.legend()\n",
    "    \n",
    "plt.show()"
   ]
  },
  {
   "cell_type": "markdown",
   "metadata": {},
   "source": [
    "## Analysis"
   ]
  },
  {
   "cell_type": "markdown",
   "metadata": {},
   "source": [
    "We will now find fit a line to each set of data points. Recall that, since it is a log-log plot, the slope for order $K$ should be $K+1$ according to the STD theorem. Below, we print the order, expected slope (ES), the computed slope (CS), and the relative error (RE) between ES and CS."
   ]
  },
  {
   "cell_type": "code",
   "execution_count": 660,
   "metadata": {},
   "outputs": [
    {
     "name": "stdout",
     "output_type": "stream",
     "text": [
      "K ES CS  RE\n",
      "2 3  3.0 0.0\n",
      "4 5  1.0 0.8\n"
     ]
    }
   ],
   "source": [
    "## Analysis\n",
    "\n",
    "# Print the labels\n",
    "print('K',\"ES\", \"CS\", \" RE\")\n",
    "\n",
    "# Loop through k\n",
    "for k in range(len(K_list)):\n",
    "    K = K_list[k]\n",
    "    ES = K_list[k]+1\n",
    "    CS = np.polyfit(log_t_list,log_norm_list[k],1)[0]\n",
    "    CS_rounded = round(np.polyfit(log_t_list,log_norm_list[k],1)[0],4)\n",
    "    RE = round(abs(ES-CS)/abs(ES),5)\n",
    "    print(K, ES,\"\",CS_rounded,RE)"
   ]
  },
  {
   "cell_type": "markdown",
   "metadata": {},
   "source": [
    "As we can see, the calculated slope is very close to the expected slope from the STD theorem. We have verified computationally (at least up to K_max) the correctness of the STD Theorem."
   ]
  }
 ],
 "metadata": {
  "kernelspec": {
   "display_name": "Python 3",
   "language": "python",
   "name": "python3"
  },
  "language_info": {
   "codemirror_mode": {
    "name": "ipython",
    "version": 3
   },
   "file_extension": ".py",
   "mimetype": "text/x-python",
   "name": "python",
   "nbconvert_exporter": "python",
   "pygments_lexer": "ipython3",
   "version": "3.7.3"
  }
 },
 "nbformat": 4,
 "nbformat_minor": 2
}
